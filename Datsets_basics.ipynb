{
 "cells": [
  {
   "cell_type": "code",
   "execution_count": null,
   "id": "69c4afea-4a4a-4eb8-a246-c0cfc0a12f51",
   "metadata": {},
   "outputs": [
    {
     "name": "stdout",
     "output_type": "stream",
     "text": [
      "\u001b[33m[W 2024-02-16 16:31:50.651 ServerApp]\u001b[m A `_jupyter_server_extension_points` function was not found in jupyter_lsp. Instead, a `_jupyter_server_extension_paths` function was found and will be used for now. This function name will be deprecated in future releases of Jupyter Server.\n",
      "\u001b[33m[W 2024-02-16 16:31:50.666 ServerApp]\u001b[m A `_jupyter_server_extension_points` function was not found in notebook_shim. Instead, a `_jupyter_server_extension_paths` function was found and will be used for now. This function name will be deprecated in future releases of Jupyter Server.\n",
      "\u001b[32m[I 2024-02-16 16:31:50.667 ServerApp]\u001b[m jupyter_lsp | extension was successfully linked.\n",
      "\u001b[32m[I 2024-02-16 16:31:50.669 ServerApp]\u001b[m jupyter_server_terminals | extension was successfully linked.\n",
      "\u001b[33m[W 2024-02-16 16:31:50.669 LabApp]\u001b[m 'iopub_data_rate_limit' has moved from NotebookApp to ServerApp. This config will be passed to ServerApp. Be sure to update your config before our next release.\n",
      "\u001b[33m[W 2024-02-16 16:31:50.671 ServerApp]\u001b[m ServerApp.iopub_data_rate_limit config is deprecated in 2.0. Use ZMQChannelsWebsocketConnection.iopub_data_rate_limit.\n",
      "\u001b[32m[I 2024-02-16 16:31:50.671 ServerApp]\u001b[m jupyterlab | extension was successfully linked.\n",
      "\u001b[32m[I 2024-02-16 16:31:50.673 ServerApp]\u001b[m notebook | extension was successfully linked.\n",
      "\u001b[32m[I 2024-02-16 16:31:50.780 ServerApp]\u001b[m notebook_shim | extension was successfully linked.\n",
      "\u001b[32m[I 2024-02-16 16:31:50.787 ServerApp]\u001b[m notebook_shim | extension was successfully loaded.\n",
      "\u001b[32m[I 2024-02-16 16:31:50.788 ServerApp]\u001b[m jupyter_lsp | extension was successfully loaded.\n",
      "\u001b[32m[I 2024-02-16 16:31:50.789 ServerApp]\u001b[m jupyter_server_terminals | extension was successfully loaded.\n",
      "\u001b[32m[I 2024-02-16 16:31:50.790 LabApp]\u001b[m JupyterLab extension loaded from /usr/local/lib/python3.10/dist-packages/jupyterlab\n",
      "\u001b[32m[I 2024-02-16 16:31:50.790 LabApp]\u001b[m JupyterLab application directory is /usr/local/share/jupyter/lab\n",
      "\u001b[32m[I 2024-02-16 16:31:50.790 LabApp]\u001b[m Extension Manager is 'pypi'.\n",
      "\u001b[32m[I 2024-02-16 16:31:50.791 ServerApp]\u001b[m jupyterlab | extension was successfully loaded.\n",
      "\u001b[32m[I 2024-02-16 16:31:50.792 ServerApp]\u001b[m notebook | extension was successfully loaded.\n",
      "\u001b[32m[I 2024-02-16 16:31:50.793 ServerApp]\u001b[m The port 8888 is already in use, trying another port.\n",
      "\u001b[32m[I 2024-02-16 16:31:50.793 ServerApp]\u001b[m Serving notebooks from local directory: /home/sohaib/Huggingface-basics\n",
      "\u001b[32m[I 2024-02-16 16:31:50.793 ServerApp]\u001b[m Jupyter Server 2.12.1 is running at:\n",
      "\u001b[32m[I 2024-02-16 16:31:50.793 ServerApp]\u001b[m http://localhost:8889/tree?token=bb1982e551d20a762aac7acb80e1a0e803624600fc3ae200\n",
      "\u001b[32m[I 2024-02-16 16:31:50.793 ServerApp]\u001b[m     http://127.0.0.1:8889/tree?token=bb1982e551d20a762aac7acb80e1a0e803624600fc3ae200\n",
      "\u001b[32m[I 2024-02-16 16:31:50.793 ServerApp]\u001b[m Use Control-C to stop this server and shut down all kernels (twice to skip confirmation).\n",
      "\u001b[35m[C 2024-02-16 16:31:50.803 ServerApp]\u001b[m \n",
      "    \n",
      "    To access the server, open this file in a browser:\n",
      "        file:///home/sohaib/.local/share/jupyter/runtime/jpserver-31150-open.html\n",
      "    Or copy and paste one of these URLs:\n",
      "        http://localhost:8889/tree?token=bb1982e551d20a762aac7acb80e1a0e803624600fc3ae200\n",
      "        http://127.0.0.1:8889/tree?token=bb1982e551d20a762aac7acb80e1a0e803624600fc3ae200\n",
      "\u001b[32m[I 2024-02-16 16:31:50.811 ServerApp]\u001b[m Skipped non-installed server(s): bash-language-server, dockerfile-language-server-nodejs, javascript-typescript-langserver, jedi-language-server, julia-language-server, pyright, python-language-server, python-lsp-server, r-languageserver, sql-language-server, texlab, typescript-language-server, unified-language-server, vscode-css-languageserver-bin, vscode-html-languageserver-bin, vscode-json-languageserver-bin, yaml-language-server\n",
      "\u001b[32m[I 2024-02-16 16:32:03.416 ServerApp]\u001b[m Kernel started: df05a82e-f8fb-4761-a7fd-2522debd0210\n",
      "\u001b[32m[I 2024-02-16 16:32:05.483 ServerApp]\u001b[m Connecting to kernel df05a82e-f8fb-4761-a7fd-2522debd0210.\n"
     ]
    }
   ],
   "source": [
    "!jupyter notebook --NotebookApp.iopub_data_rate_limit=1.0e10"
   ]
  },
  {
   "cell_type": "markdown",
   "id": "090a7277-fd48-48fd-a3d6-022e58df2bc5",
   "metadata": {},
   "source": [
    "## HuggingFace Datasets page [link](https://huggingface.co/datasets)"
   ]
  },
  {
   "cell_type": "code",
   "execution_count": 7,
   "id": "d6b6afcf-c1d5-4ee1-a2bf-7cf2c6eb8312",
   "metadata": {},
   "outputs": [
    {
     "name": "stderr",
     "output_type": "stream",
     "text": [
      "IOPub data rate exceeded.\n",
      "The Jupyter server will temporarily stop sending output\n",
      "to the client in order to avoid crashing it.\n",
      "To change this limit, set the config variable\n",
      "`--ServerApp.iopub_data_rate_limit`.\n",
      "\n",
      "Current values:\n",
      "ServerApp.iopub_data_rate_limit=1000000.0 (bytes/sec)\n",
      "ServerApp.rate_limit_window=3.0 (secs)\n",
      "\n"
     ]
    }
   ],
   "source": [
    "from datasets import load_dataset\n",
    "\n",
    "# Print all the available datasets\n",
    "from huggingface_hub import list_datasets\n",
    "dataset_list=[dataset.id for dataset in list_datasets()]\n",
    "print(dataset_list)"
   ]
  },
  {
   "cell_type": "code",
   "execution_count": 3,
   "id": "676a1023-ac17-4729-91d5-28a65d71e7bd",
   "metadata": {},
   "outputs": [
    {
     "name": "stdout",
     "output_type": "stream",
     "text": [
      "108376\n"
     ]
    }
   ],
   "source": [
    "from datasets import load_dataset\n",
    "\n",
    "# Print all the available datasets\n",
    "from huggingface_hub import list_datasets\n",
    "for count, dataset in enumerate(list_datasets()):\n",
    "    pass\n",
    "print(count)\n",
    "#print([dataset.id for dataset in list_datasets()])"
   ]
  },
  {
   "cell_type": "code",
   "execution_count": 4,
   "id": "b43a0cd3-688b-404c-a7a7-347c65cd3466",
   "metadata": {},
   "outputs": [
    {
     "name": "stdout",
     "output_type": "stream",
     "text": [
      "108376\n"
     ]
    }
   ],
   "source": [
    "print(len(dataset_list))"
   ]
  },
  {
   "cell_type": "markdown",
   "id": "8433e6fb-7d12-4856-ba6a-9789291ab279",
   "metadata": {},
   "source": [
    "### Checking whether [this](https://huggingface.co/datasets/CohereForAI/aya_dataset) dataset exists in the dataset list "
   ]
  },
  {
   "cell_type": "code",
   "execution_count": 5,
   "id": "f4a659ee-23ef-4f41-92f7-272e26d71125",
   "metadata": {},
   "outputs": [
    {
     "name": "stdout",
     "output_type": "stream",
     "text": [
      "True\n"
     ]
    }
   ],
   "source": [
    "exists = \"CohereForAI/aya_dataset\" in dataset_list \n",
    "print(exists)"
   ]
  },
  {
   "cell_type": "code",
   "execution_count": null,
   "id": "30b1261d-04c6-4422-9277-02f697349464",
   "metadata": {},
   "outputs": [],
   "source": []
  }
 ],
 "metadata": {
  "kernelspec": {
   "display_name": "Python 3 (ipykernel)",
   "language": "python",
   "name": "python3"
  },
  "language_info": {
   "codemirror_mode": {
    "name": "ipython",
    "version": 3
   },
   "file_extension": ".py",
   "mimetype": "text/x-python",
   "name": "python",
   "nbconvert_exporter": "python",
   "pygments_lexer": "ipython3",
   "version": "3.10.12"
  }
 },
 "nbformat": 4,
 "nbformat_minor": 5
}
