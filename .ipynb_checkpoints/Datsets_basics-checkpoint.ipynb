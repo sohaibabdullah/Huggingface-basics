{
 "cells": [
  {
   "cell_type": "markdown",
   "id": "7e6bc1d0-98c4-4a89-b3ee-2e41149e5189",
   "metadata": {},
   "source": [
    "jupyter notebook --NotebookApp.iopub_data_rate_limit=1.0e10"
   ]
  },
  {
   "cell_type": "markdown",
   "id": "090a7277-fd48-48fd-a3d6-022e58df2bc5",
   "metadata": {},
   "source": [
    "## HuggingFace Datasets page [link](https://huggingface.co/datasets)"
   ]
  },
  {
   "cell_type": "code",
   "execution_count": 2,
   "id": "d6b6afcf-c1d5-4ee1-a2bf-7cf2c6eb8312",
   "metadata": {},
   "outputs": [
    {
     "name": "stderr",
     "output_type": "stream",
     "text": [
      "IOPub data rate exceeded.\n",
      "The Jupyter server will temporarily stop sending output\n",
      "to the client in order to avoid crashing it.\n",
      "To change this limit, set the config variable\n",
      "`--ServerApp.iopub_data_rate_limit`.\n",
      "\n",
      "Current values:\n",
      "ServerApp.iopub_data_rate_limit=1000000.0 (bytes/sec)\n",
      "ServerApp.rate_limit_window=3.0 (secs)\n",
      "\n"
     ]
    }
   ],
   "source": [
    "from datasets import load_dataset\n",
    "\n",
    "# Print all the available datasets\n",
    "from huggingface_hub import list_datasets\n",
    "dataset_list=[dataset.id for dataset in list_datasets()]\n",
    "print(dataset_list)"
   ]
  },
  {
   "cell_type": "code",
   "execution_count": 3,
   "id": "676a1023-ac17-4729-91d5-28a65d71e7bd",
   "metadata": {},
   "outputs": [
    {
     "name": "stdout",
     "output_type": "stream",
     "text": [
      "108376\n"
     ]
    }
   ],
   "source": [
    "from datasets import load_dataset\n",
    "\n",
    "# Print all the available datasets\n",
    "from huggingface_hub import list_datasets\n",
    "for count, dataset in enumerate(list_datasets()):\n",
    "    pass\n",
    "print(count)\n",
    "#print([dataset.id for dataset in list_datasets()])"
   ]
  },
  {
   "cell_type": "code",
   "execution_count": 4,
   "id": "b43a0cd3-688b-404c-a7a7-347c65cd3466",
   "metadata": {},
   "outputs": [
    {
     "name": "stdout",
     "output_type": "stream",
     "text": [
      "108376\n"
     ]
    }
   ],
   "source": [
    "print(len(dataset_list))"
   ]
  },
  {
   "cell_type": "markdown",
   "id": "8433e6fb-7d12-4856-ba6a-9789291ab279",
   "metadata": {},
   "source": [
    "### Checking whether [this](https://huggingface.co/datasets/CohereForAI/aya_dataset) dataset exists in the dataset list "
   ]
  },
  {
   "cell_type": "code",
   "execution_count": 5,
   "id": "f4a659ee-23ef-4f41-92f7-272e26d71125",
   "metadata": {},
   "outputs": [
    {
     "name": "stdout",
     "output_type": "stream",
     "text": [
      "True\n"
     ]
    }
   ],
   "source": [
    "exists = \"CohereForAI/aya_dataset\" in dataset_list \n",
    "print(exists)"
   ]
  },
  {
   "cell_type": "code",
   "execution_count": null,
   "id": "30b1261d-04c6-4422-9277-02f697349464",
   "metadata": {},
   "outputs": [],
   "source": []
  }
 ],
 "metadata": {
  "kernelspec": {
   "display_name": "Python 3 (ipykernel)",
   "language": "python",
   "name": "python3"
  },
  "language_info": {
   "codemirror_mode": {
    "name": "ipython",
    "version": 3
   },
   "file_extension": ".py",
   "mimetype": "text/x-python",
   "name": "python",
   "nbconvert_exporter": "python",
   "pygments_lexer": "ipython3",
   "version": "3.10.12"
  }
 },
 "nbformat": 4,
 "nbformat_minor": 5
}
